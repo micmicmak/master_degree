{
 "cells": [
  {
   "cell_type": "markdown",
   "id": "4940de1e",
   "metadata": {},
   "source": [
    "# The Hong Kong University of Science and Technology\n",
    "# MSBD6000J: Spatial and Multimedia Databases\n",
    "# Fall 2021 Assignment 1"
   ]
  },
  {
   "cell_type": "markdown",
   "id": "edf56c46",
   "metadata": {},
   "source": [
    "### Student name: Mak Chun Wai, Michael\n",
    "### HKUST account: cwmakah\n",
    "### Student ID: 20801333"
   ]
  },
  {
   "cell_type": "markdown",
   "id": "01761bae",
   "metadata": {},
   "source": [
    "##### Task 1 - Write a program to compute and report the MBR for the POI dataset D"
   ]
  },
  {
   "cell_type": "code",
   "execution_count": 1,
   "id": "6d6c46da",
   "metadata": {},
   "outputs": [],
   "source": [
    "# Import library\n",
    "from csv import reader\n",
    "from collections import defaultdict\n",
    "import numpy as np\n",
    "import random\n",
    "import time"
   ]
  },
  {
   "cell_type": "code",
   "execution_count": 2,
   "id": "72590225",
   "metadata": {},
   "outputs": [],
   "source": [
    "# Create a class Rectangle for all rectangles in this assignment\n",
    "# Include MBR, grids in EXCELL & quad-tree and query windows\n",
    "class Rectangle:\n",
    "    def __init__(self, cx, cy, hw, hh, bucket = None):\n",
    "        '''\n",
    "        cx: x-coordinate of centre\n",
    "        cy: y-coordinate of centre\n",
    "        hw: half width of rectangle\n",
    "        hh: half height of rectangle\n",
    "        bucket: store points\n",
    "        '''\n",
    "        self.cx, self.cy, self.hw, self.hh = cx, cy, hw, hh\n",
    "        self.west = cx - hw\n",
    "        self.east = cx + hw\n",
    "        self.north = cy + hh\n",
    "        self.south = cy - hh\n",
    "        self.result = []\n",
    "        self.cells_searched = 0\n",
    "        self.points_searched = 0\n",
    "        if bucket != None:\n",
    "            self.bucket = bucket\n",
    "        else:\n",
    "            self.bucket = []\n",
    "    \n",
    "    def get(self):\n",
    "        '''\n",
    "        Return the 4 edges of Rectangle\n",
    "        '''\n",
    "        return self.west, self.east, self.south, self.north\n",
    "    \n",
    "    def contains(self, point):\n",
    "        \"\"\"\n",
    "        Check if a point is inside this Rectangle\n",
    "        \"\"\"\n",
    "        global mbr\n",
    "        if (self.west <= point[0] < self.east and self.south <= point[1] < self.north):\n",
    "            return True\n",
    "        elif (point[0] == mbr.east == self.east and self.south <= point[1] < self.north):\n",
    "            return True\n",
    "        elif (self.west <= point[0] < self.east and point[1] == mbr.north == self.north):\n",
    "            return True\n",
    "        elif (point[0] == mbr.east == self.east and point[1] == mbr.north == self.north):\n",
    "            return True\n",
    "        else:\n",
    "            return False\n",
    "\n",
    "    def overlaps(self, obj):\n",
    "        \"\"\"\n",
    "        Check if another Rectangle intersects with this Rectangle\n",
    "        \"\"\"\n",
    "        if obj.west > self.east or obj.east < self.west or \\\n",
    "           obj.north < self.south or obj.south > self.north:\n",
    "            result = False\n",
    "        else:\n",
    "            result = True\n",
    "        return result"
   ]
  },
  {
   "cell_type": "code",
   "execution_count": 3,
   "id": "ed71593f",
   "metadata": {},
   "outputs": [],
   "source": [
    "def data_transform_rectangle(data):\n",
    "    '''\n",
    "    Extract the MBR features from dataset\n",
    "    Return:\n",
    "    cx: x-coordinate of centre\n",
    "    cy: y-coordinate of centre\n",
    "    hw: half width of rectangle\n",
    "    hh: half height of rectangle\n",
    "    '''\n",
    "    x_low = min(data[:, 0])\n",
    "    x_high = max(data[:, 0])\n",
    "    y_low = min(data[:, 1])\n",
    "    y_high = max(data[:, 1])\n",
    "    cx = (x_low + x_high) / 2\n",
    "    cy = (y_low + y_high) / 2\n",
    "    hw = (x_high - x_low) / 2\n",
    "    hh = (y_high - y_low) / 2\n",
    "    return cx, cy, hw, hh"
   ]
  },
  {
   "cell_type": "code",
   "execution_count": 4,
   "id": "c18ccf8d",
   "metadata": {},
   "outputs": [
    {
     "name": "stdout",
     "output_type": "stream",
     "text": [
      "MBR minimum of x-coordinate: 115.43504300000001\n",
      "MBR maximum of x-coordinate: 117.488743\n",
      "MBR minimum of y-coordinate: 39.439945\n",
      "MBR maximum of y-coordinate: 41.029975\n"
     ]
    }
   ],
   "source": [
    "# Get the MBR for the POI dataset D\n",
    "data = np.genfromtxt('AllPOI Simplified.csv', dtype=\"float\", delimiter=',', encoding=\"utf-8-sig\")\n",
    "cx, cy, hw, hh = data_transform_rectangle(data)\n",
    "mbr = Rectangle(cx, cy, hw, hh)\n",
    "a, b, c, d = mbr.get()\n",
    "print('MBR minimum of x-coordinate:', a)\n",
    "print('MBR maximum of x-coordinate:', b)\n",
    "print('MBR minimum of y-coordinate:', c)\n",
    "print('MBR maximum of y-coordinate:', d)"
   ]
  },
  {
   "cell_type": "markdown",
   "id": "0ba87f7f",
   "metadata": {},
   "source": [
    "##### Task 2 - Create an in-memory index for D - EXCELL"
   ]
  },
  {
   "cell_type": "markdown",
   "id": "3df1c2fc",
   "metadata": {},
   "source": [
    "##### Task 2(1): Write a program to create an EXCELL index"
   ]
  },
  {
   "cell_type": "code",
   "execution_count": 5,
   "id": "b6cf00d2",
   "metadata": {},
   "outputs": [],
   "source": [
    "class EXCELL:\n",
    "    def __init__(self, MBR, points, start_N, bucket_size):\n",
    "        '''\n",
    "        MBR: definition of space\n",
    "        points: all points in the space\n",
    "        start_N: number of cells at the start of iteration\n",
    "        bucket_size: maximum capacity of each bucket\n",
    "\n",
    "        cells_summary: summary of counting number of points inside cells\n",
    "        grids: list of all grids (class Rectangle) in the space\n",
    "        N: the minimum number of N that fulfils the bucket size\n",
    "        '''\n",
    "        self.MBR = MBR\n",
    "        self.points = points\n",
    "        self.start_N = start_N\n",
    "        self.bucket_size = bucket_size\n",
    "        self.cells_summary = dict()\n",
    "        self.grids = list()\n",
    "        self.N = None\n",
    "\n",
    "    def get_N(self):\n",
    "        '''\n",
    "        Get the minimum number of N that fulfils the bucket size\n",
    "        by looping through the N from user-defined start_N, which is 1 in this assignment\n",
    "        '''\n",
    "        N = self.start_N  # Initialize number of cells on each axis\n",
    "        stop_split = False  # Initialize splitting status\n",
    "        while stop_split == False:\n",
    "            self.cells = dict()\n",
    "            x_interval = (self.MBR.east-self.MBR.west)/N\n",
    "            y_interval = (self.MBR.north-self.MBR.south)/N\n",
    "            for i in range(N):\n",
    "                for j in range(N):\n",
    "                    self.cells[(i, j)] = []\n",
    "            for point in self.points:\n",
    "                x = point[0]\n",
    "                y = point[1]\n",
    "                # Bound the points on the edge to the grid: avoid error\n",
    "                x_coor = (x-self.MBR.west)//x_interval\n",
    "                if x_coor < 0:\n",
    "                    x_coor = 0\n",
    "                y_coor = (y-self.MBR.south)//y_interval\n",
    "                if y_coor < 0:\n",
    "                    y_coor = 0\n",
    "                if x == self.MBR.east:\n",
    "                    self.cells[(x_coor-1, y_coor)].append(point)\n",
    "                elif y == self.MBR.north:\n",
    "                    self.cells[(x_coor, y_coor-1)].append(point)\n",
    "                else:\n",
    "                    self.cells[(x_coor, y_coor)].append(point)\n",
    "\n",
    "            # Check the number of points in cells\n",
    "            length = []\n",
    "            for key, value in self.cells.items():\n",
    "                length.append(len(value))\n",
    "            check_length = np.array(length)\n",
    "            # Check if the number of points in all cells is under 256\n",
    "            stop_split = ((check_length <= self.bucket_size).sum()\n",
    "                          == check_length.size)\n",
    "            # Jump out of loop or split more\n",
    "            if stop_split == True:\n",
    "                self.N = N\n",
    "                break\n",
    "            else:\n",
    "                N += 1\n",
    "        return N\n",
    "\n",
    "    def get_grids(self):\n",
    "        '''\n",
    "        Transform the dictionary key with correct data structure (Rectangle)\n",
    "        Save to self.grids as a list of grids\n",
    "        '''\n",
    "        structured_cells = defaultdict(list)\n",
    "        for key, value in self.cells.items():\n",
    "            half_w = self.MBR.hw / self.N\n",
    "            half_h = self.MBR.hh / self.N\n",
    "            cx = self.MBR.west + half_w + 2*half_w * key[0]\n",
    "            cy = self.MBR.south + half_h + 2*half_h * key[1]\n",
    "            new_key = Rectangle(cx, cy, half_w, half_h, value)\n",
    "            structured_cells[new_key] = value\n",
    "        for rect in structured_cells.keys():\n",
    "            self.grids.append(rect)\n",
    "    \n",
    "    def get_summary(self):\n",
    "        '''\n",
    "        Compute the summary for Task 2(1)\n",
    "        '''\n",
    "        cells_summary = defaultdict(int)\n",
    "        for i in range(self.N):\n",
    "            for j in range(self.N):\n",
    "                number_of_points = len(self.cells[i, j])\n",
    "                if number_of_points == 0:\n",
    "                    cells_summary['0'] += 1\n",
    "                elif 1 <= number_of_points <= 25:\n",
    "                    cells_summary['1-25'] += 1\n",
    "                elif 26 <= number_of_points <= 239:\n",
    "                    cells_summary['26-239'] += 1\n",
    "                elif 240 <= number_of_points <= 255:\n",
    "                    cells_summary['240-255'] += 1\n",
    "                elif number_of_points == 256:\n",
    "                    cells_summary['256'] += 1\n",
    "                else:\n",
    "                    print('Number of points exceeds buscket size of a cell.')\n",
    "        self.cells_summary = dict(cells_summary)\n",
    "        return self.cells_summary\n",
    "    \n",
    "    def add_point(self, point):\n",
    "        '''\n",
    "        add point one by one\n",
    "        '''\n",
    "        for grid in self.grids:\n",
    "            if grid.contains(point):\n",
    "                if len(grid.bucket) < self.bucket_size:\n",
    "                    grid.bucket.append(point)\n",
    "                else:\n",
    "                    _ = self.get_N()\n",
    "                    self.get_grids()\n",
    "                    self.add_point(point)"
   ]
  },
  {
   "cell_type": "code",
   "execution_count": 6,
   "id": "1af66b1a",
   "metadata": {
    "scrolled": true
   },
   "outputs": [
    {
     "name": "stdout",
     "output_type": "stream",
     "text": [
      "n: 272\n",
      "Time used to get N: 291.0587067604065\n"
     ]
    }
   ],
   "source": [
    "# Create EXCELL index and report the value of n\n",
    "start_n = 1\n",
    "max_bucket_size = 256\n",
    "excell = EXCELL(mbr, data, start_n, max_bucket_size)\n",
    "start_time = time.time()\n",
    "print('n:', excell.get_N())\n",
    "get_N_time = time.time() - start_time\n",
    "print('Time used to get N:', get_N_time)"
   ]
  },
  {
   "cell_type": "code",
   "execution_count": 7,
   "id": "a3636e5e",
   "metadata": {},
   "outputs": [
    {
     "name": "stdout",
     "output_type": "stream",
     "text": [
      "Number of cells containing 0 points: 62197\n",
      "Number of cells containing 1-25 points: 9979\n",
      "Number of cells containing 26-239 points: 1801\n",
      "Number of cells containing 240-255 points: 7\n",
      "Total number of cells in quad-tree: 73984\n"
     ]
    }
   ],
   "source": [
    "# Report the number of cells containing different amount of points\n",
    "excell.get_grids()\n",
    "summary = excell.get_summary()\n",
    "cells_sum = 0\n",
    "for key, value in summary.items():\n",
    "    print('Number of cells containing {} points:'.format(key), value)\n",
    "    cells_sum += value\n",
    "print('Total number of cells in quad-tree:', cells_sum)"
   ]
  },
  {
   "cell_type": "markdown",
   "id": "d4ac7d9f",
   "metadata": {},
   "source": [
    "##### Task 2(2): Write a program to perform window queries"
   ]
  },
  {
   "cell_type": "code",
   "execution_count": 8,
   "id": "09478f38",
   "metadata": {},
   "outputs": [],
   "source": [
    "def excell_window_query(window, space_grids):\n",
    "    '''\n",
    "    Return\n",
    "    points_inside: Number of points inside query window\n",
    "    cells_searched: Number of index cells searched\n",
    "    points_searched: Number of points searched\n",
    "    '''\n",
    "    points_inside, cells_searched, points_searched = 0, 0, 0\n",
    "    for grid in space_grids:\n",
    "        if window.overlaps(grid):\n",
    "            cells_searched += 1\n",
    "            for point in grid.bucket:\n",
    "                points_searched += 1\n",
    "                if window.contains(point):\n",
    "                    points_inside += 1\n",
    "    return points_inside, cells_searched, points_searched"
   ]
  },
  {
   "cell_type": "markdown",
   "id": "40f6cdc8",
   "metadata": {},
   "source": [
    "##### Task 2(3): Generate 10 random window queries, search and report"
   ]
  },
  {
   "cell_type": "code",
   "execution_count": 9,
   "id": "3f792758",
   "metadata": {},
   "outputs": [],
   "source": [
    "def gen_rand_window(mbr, window_number):\n",
    "    '''\n",
    "    mbr: definition of space\n",
    "    window_number: generate n windows defined by user\n",
    "    '''\n",
    "    window = []\n",
    "    while len(window) < window_number:\n",
    "        tmp = None\n",
    "        # Bound the windows within MBR\n",
    "        cx = random.uniform(mbr.west, mbr.east)\n",
    "        cy = random.uniform(mbr.south, mbr.north)\n",
    "        hw = min(cx - mbr.west, mbr.east - cx) * random.uniform(0, 1)\n",
    "        hh = min(cy - mbr.south, mbr.north - cy) * random.uniform(0, 1)\n",
    "        tmp = Rectangle(cx, cy, hw, hh)\n",
    "        window.append(tmp)\n",
    "    return window"
   ]
  },
  {
   "cell_type": "code",
   "execution_count": 10,
   "id": "9bfd9d24",
   "metadata": {},
   "outputs": [
    {
     "data": {
      "text/plain": [
       "[<__main__.Rectangle at 0xe9be8b1880>,\n",
       " <__main__.Rectangle at 0xe9be8b1640>,\n",
       " <__main__.Rectangle at 0xe9be8b1d00>,\n",
       " <__main__.Rectangle at 0xe9be8b19d0>,\n",
       " <__main__.Rectangle at 0xe9be8b17f0>,\n",
       " <__main__.Rectangle at 0xe9be8b1430>,\n",
       " <__main__.Rectangle at 0xe9be8b10d0>,\n",
       " <__main__.Rectangle at 0xe9be8b1940>,\n",
       " <__main__.Rectangle at 0xe9c4819970>,\n",
       " <__main__.Rectangle at 0xe9c48196a0>]"
      ]
     },
     "execution_count": 10,
     "metadata": {},
     "output_type": "execute_result"
    }
   ],
   "source": [
    "# Generate random windows\n",
    "window_number = 10\n",
    "random_window = gen_rand_window(mbr, window_number)\n",
    "random_window"
   ]
  },
  {
   "cell_type": "code",
   "execution_count": 11,
   "id": "2e2113b1",
   "metadata": {},
   "outputs": [
    {
     "name": "stdout",
     "output_type": "stream",
     "text": [
      "Window 1\n",
      "Time used to query: 0.07004618644714355\n",
      "Number of points inside: 148\n",
      "Number of index cells searched: 1404\n",
      "Number of points searched: 158\n",
      "\n",
      "Window 2\n",
      "Time used to query: 0.054036617279052734\n",
      "Number of points inside: 557\n",
      "Number of index cells searched: 882\n",
      "Number of points searched: 586\n",
      "\n",
      "Window 3\n",
      "Time used to query: 0.062040090560913086\n",
      "Number of points inside: 121\n",
      "Number of index cells searched: 2783\n",
      "Number of points searched: 129\n",
      "\n",
      "Window 4\n",
      "Time used to query: 0.06304144859313965\n",
      "Number of points inside: 790\n",
      "Number of index cells searched: 1197\n",
      "Number of points searched: 828\n",
      "\n",
      "Window 5\n",
      "Time used to query: 0.13609004020690918\n",
      "Number of points inside: 24745\n",
      "Number of index cells searched: 15982\n",
      "Number of points searched: 24890\n",
      "\n",
      "Window 6\n",
      "Time used to query: 0.05003523826599121\n",
      "Number of points inside: 1\n",
      "Number of index cells searched: 429\n",
      "Number of points searched: 2\n",
      "\n",
      "Window 7\n",
      "Time used to query: 0.05203509330749512\n",
      "Number of points inside: 6\n",
      "Number of index cells searched: 1290\n",
      "Number of points searched: 8\n",
      "\n",
      "Window 8\n",
      "Time used to query: 0.055036306381225586\n",
      "Number of points inside: 1\n",
      "Number of index cells searched: 9\n",
      "Number of points searched: 8\n",
      "\n",
      "Window 9\n",
      "Time used to query: 0.06604337692260742\n",
      "Number of points inside: 106\n",
      "Number of index cells searched: 1900\n",
      "Number of points searched: 114\n",
      "\n",
      "Window 10\n",
      "Time used to query: 0.06504440307617188\n",
      "Number of points inside: 103\n",
      "Number of index cells searched: 636\n",
      "Number of points searched: 122\n",
      "\n"
     ]
    }
   ],
   "source": [
    "# Perform window query\n",
    "count = 1\n",
    "for rw in random_window:\n",
    "    start_time = time.time()\n",
    "    a, b, c = excell_window_query(rw, excell.grids)\n",
    "    query_time = time.time() - start_time\n",
    "    print('Window', count)\n",
    "    print('Time used to query:', query_time)\n",
    "    print('Number of points inside:', a)\n",
    "    print('Number of index cells searched:', b)\n",
    "    print('Number of points searched:', c)\n",
    "    print('')\n",
    "    count += 1"
   ]
  },
  {
   "cell_type": "markdown",
   "id": "b62ee18b",
   "metadata": {},
   "source": [
    "##### Task 3 - Create an in-memory index for quad-tree decompaction"
   ]
  },
  {
   "cell_type": "markdown",
   "id": "58e04cf1",
   "metadata": {},
   "source": [
    "##### Task 3(1): Write a program to create an index following quad-tree decompaction"
   ]
  },
  {
   "cell_type": "markdown",
   "id": "5cfc8acf",
   "metadata": {},
   "source": [
    "##### Task 3(2): Write a program to perform window queries"
   ]
  },
  {
   "cell_type": "code",
   "execution_count": 12,
   "id": "0c042962",
   "metadata": {},
   "outputs": [],
   "source": [
    "# Create a class Node for all nodes in quad-tree\n",
    "class Node:\n",
    "    def __init__(self, space, depth, bucket_size):\n",
    "        '''\n",
    "        self.space: Rectangle of the node\n",
    "        self.depth: depth in the tree\n",
    "        self.bucket_size: maximum capacity of the bucket (i.e. 256 in this assignment)\n",
    "        self.nw, self.ne, self.sw, self.se: children of node\n",
    "        self.have_children: boolean to judge this node having children or not\n",
    "        '''\n",
    "        self.space = space\n",
    "        self.depth = depth\n",
    "        self.bucket_size = bucket_size\n",
    "        self.nw = None\n",
    "        self.ne = None\n",
    "        self.sw = None\n",
    "        self.se = None\n",
    "        self.have_children = False\n",
    "    \n",
    "    def split(self):\n",
    "        '''\n",
    "        Split the node, re-allocate the points to children and compute m\n",
    "        '''\n",
    "        global minlevel\n",
    "        cx, cy = self.space.cx, self.space.cy\n",
    "        hw, hh = self.space.hw / 2, self.space.hh / 2\n",
    "        self.nw = Node(Rectangle(cx - hw, cy + hh, hw, hh), self.depth + 1, self.bucket_size)\n",
    "        self.ne = Node(Rectangle(cx + hw, cy + hh, hw, hh), self.depth + 1, self.bucket_size)\n",
    "        self.sw = Node(Rectangle(cx - hw, cy - hh, hw, hh), self.depth + 1, self.bucket_size)\n",
    "        self.se = Node(Rectangle(cx + hw, cy - hh, hw, hh), self.depth + 1, self.bucket_size)\n",
    "        for child in [self.nw, self.ne, self.sw, self.se]:\n",
    "            for point in self.space.bucket:\n",
    "                if child.space.contains(point):\n",
    "                    child.space.bucket.append(point)\n",
    "        minlevel = max(minlevel, self.depth + 1)\n",
    "        self.space.bucket = []\n",
    "        self.have_children = True\n",
    "    \n",
    "    def insert(self, point):\n",
    "        '''\n",
    "        Insert a point to node\n",
    "        '''\n",
    "        if self.space.contains(point):\n",
    "            if self.have_children == True:\n",
    "                self.nw.insert(point)\n",
    "                self.ne.insert(point)\n",
    "                self.sw.insert(point)\n",
    "                self.se.insert(point)\n",
    "            elif len(self.space.bucket) < self.bucket_size:\n",
    "                self.space.bucket.append(point)\n",
    "            else:\n",
    "                self.split()\n",
    "                self.nw.insert(point)\n",
    "                self.ne.insert(point)\n",
    "                self.sw.insert(point)\n",
    "                self.se.insert(point)\n",
    "    \n",
    "    def count_bucket(self, count_list):\n",
    "        '''\n",
    "        Count the number of points in the grid\n",
    "        '''\n",
    "        if self.have_children == True:\n",
    "            self.nw.count_bucket(count_list)\n",
    "            self.ne.count_bucket(count_list)\n",
    "            self.sw.count_bucket(count_list)\n",
    "            self.se.count_bucket(count_list)\n",
    "        else:\n",
    "            count_list.append(len(self.space.bucket))\n",
    "        return count_list\n",
    "    \n",
    "    # Part of Task 3(2)\n",
    "    def query(self, window):\n",
    "        '''\n",
    "        Carry out window query for each node\n",
    "        Store the result into window node\n",
    "        '''\n",
    "        if window.overlaps(self.space):\n",
    "            if self.have_children == True:\n",
    "                self.nw.query(window)\n",
    "                self.ne.query(window)\n",
    "                self.sw.query(window)\n",
    "                self.se.query(window)\n",
    "            else:\n",
    "                window.cells_searched += 1\n",
    "                for point in self.space.bucket:\n",
    "                    window.points_searched += 1\n",
    "                    if window.contains(point):\n",
    "                        window.result.append(point)"
   ]
  },
  {
   "cell_type": "code",
   "execution_count": 13,
   "id": "c13228c7",
   "metadata": {},
   "outputs": [],
   "source": [
    "# Create a class QuadTree to build a quad-tree\n",
    "class QuadTree:\n",
    "    def __init__(self, space, depth, bucket_size):\n",
    "        '''\n",
    "        self.space: Rectangle of the whole sapce\n",
    "        self.depth: starting depth of the tree\n",
    "        self.bucket_size: maximum capacity of the bucket (i.e. 256 in this assignment)\n",
    "        self.root: transform the root into class Node\n",
    "        '''\n",
    "        self.space = space\n",
    "        self.depth = depth\n",
    "        self.bucket_size = bucket_size\n",
    "        self.root = Node(self.space, self.depth, self.bucket_size)\n",
    "    \n",
    "    def add_points(self, points):\n",
    "        '''\n",
    "        Add points into the tree\n",
    "        '''\n",
    "        for point in points:\n",
    "            self.root.insert(point)\n",
    "\n",
    "    def get_summary(self):\n",
    "        '''\n",
    "        Compute the summary for Task 3(1)\n",
    "        '''\n",
    "        cells_summary = defaultdict(int)\n",
    "        cur = self.root\n",
    "        sum_list = cur.count_bucket(list())\n",
    "        for i in sum_list:\n",
    "            if i == 0:\n",
    "                cells_summary['0'] += 1\n",
    "            elif 1 <= i <= 25:\n",
    "                cells_summary['1-25'] += 1\n",
    "            elif 26 <= i <= 239:\n",
    "                cells_summary['26-239'] += 1\n",
    "            elif 240 <= i <= 255:\n",
    "                cells_summary['240-255'] += 1\n",
    "            elif i == 256:\n",
    "                cells_summary['256'] += 1\n",
    "            else:\n",
    "                print('Number of points exceeds buscket size of a cell.')\n",
    "        return dict(cells_summary)\n",
    "    \n",
    "    # Part of Task 3(2)\n",
    "    def window_query(self, window):\n",
    "        '''\n",
    "        Return\n",
    "        points_inside: Number of points inside query window\n",
    "        cells_searched: Number of index cells searched\n",
    "        points_searched: Number of points searched\n",
    "        '''\n",
    "        cur = self.root\n",
    "        cur.query(window)\n",
    "        return window.result, window.cells_searched, window.points_searched"
   ]
  },
  {
   "cell_type": "code",
   "execution_count": 14,
   "id": "83176025",
   "metadata": {},
   "outputs": [
    {
     "name": "stdout",
     "output_type": "stream",
     "text": [
      "m: 9\n",
      "Time used to build quad-tree: 13.806187152862549\n"
     ]
    }
   ],
   "source": [
    "# Create quad-tree index and report the value of m\n",
    "start_depth = 0\n",
    "max_bucket_size = 256\n",
    "minlevel = 1\n",
    "start_time = time.time()\n",
    "quadtree = QuadTree(mbr, start_depth, max_bucket_size)\n",
    "quadtree.add_points(data)\n",
    "qtree_time = time.time() - start_time\n",
    "print('m:', minlevel)\n",
    "print('Time used to build quad-tree:', qtree_time)"
   ]
  },
  {
   "cell_type": "code",
   "execution_count": 15,
   "id": "091fe8aa",
   "metadata": {},
   "outputs": [
    {
     "name": "stdout",
     "output_type": "stream",
     "text": [
      "Number of cells containing 0 points: 34\n",
      "Number of cells containing 1-25 points: 99\n",
      "Number of cells containing 26-239 points: 1611\n",
      "Number of cells containing 240-255 points: 28\n",
      "Number of cells containing 256 points: 2\n",
      "Total number of cells in quad-tree: 1774\n"
     ]
    }
   ],
   "source": [
    "# Report the number of cells containing different amount of points\n",
    "summary = quadtree.get_summary()\n",
    "reorder_list = ['0', '1-25', '26-239', '240-255', '256']\n",
    "reordered_summary = {k: summary[k] for k in reorder_list}\n",
    "cells_sum = 0\n",
    "for key, value in reordered_summary.items():\n",
    "    print('Number of cells containing {} points:'.format(key), value)\n",
    "    cells_sum += value\n",
    "print('Total number of cells in quad-tree:', cells_sum)"
   ]
  },
  {
   "cell_type": "markdown",
   "id": "db00de4d",
   "metadata": {},
   "source": [
    "##### Task 3(3): Use the same 10 random window queries as Task 2(2), search and report"
   ]
  },
  {
   "cell_type": "code",
   "execution_count": 16,
   "id": "7e897b31",
   "metadata": {},
   "outputs": [
    {
     "name": "stdout",
     "output_type": "stream",
     "text": [
      "Window 1\n",
      "Time used to query: 0.0020008087158203125\n",
      "Number of points inside: 148\n",
      "Number of index cells searched: 3\n",
      "Number of points searched: 277\n",
      "\n",
      "Window 2\n",
      "Time used to query: 0.006002902984619141\n",
      "Number of points inside: 557\n",
      "Number of index cells searched: 17\n",
      "Number of points searched: 1201\n",
      "\n",
      "Window 3\n",
      "Time used to query: 0.0020020008087158203\n",
      "Number of points inside: 121\n",
      "Number of index cells searched: 4\n",
      "Number of points searched: 413\n",
      "\n",
      "Window 4\n",
      "Time used to query: 0.010006427764892578\n",
      "Number of points inside: 790\n",
      "Number of index cells searched: 26\n",
      "Number of points searched: 2113\n",
      "\n",
      "Window 5\n",
      "Time used to query: 0.06804347038269043\n",
      "Number of points inside: 24745\n",
      "Number of index cells searched: 271\n",
      "Number of points searched: 26271\n",
      "\n",
      "Window 6\n",
      "Time used to query: 0.0020012855529785156\n",
      "Number of points inside: 1\n",
      "Number of index cells searched: 6\n",
      "Number of points searched: 457\n",
      "\n",
      "Window 7\n",
      "Time used to query: 0.0\n",
      "Number of points inside: 6\n",
      "Number of index cells searched: 7\n",
      "Number of points searched: 38\n",
      "\n",
      "Window 8\n",
      "Time used to query: 0.0\n",
      "Number of points inside: 1\n",
      "Number of index cells searched: 1\n",
      "Number of points searched: 73\n",
      "\n",
      "Window 9\n",
      "Time used to query: 0.002001523971557617\n",
      "Number of points inside: 106\n",
      "Number of index cells searched: 9\n",
      "Number of points searched: 796\n",
      "\n",
      "Window 10\n",
      "Time used to query: 0.005004167556762695\n",
      "Number of points inside: 103\n",
      "Number of index cells searched: 14\n",
      "Number of points searched: 1533\n",
      "\n"
     ]
    }
   ],
   "source": [
    "# Perform window query\n",
    "count = 1\n",
    "for rw in random_window:\n",
    "    start_time = time.time()\n",
    "    a, b, c = quadtree.window_query(rw)\n",
    "    query_time = time.time() - start_time\n",
    "    print('Window', count)\n",
    "    print('Time used to query:', query_time)\n",
    "    print('Number of points inside:', len(a))\n",
    "    print('Number of index cells searched:', b)\n",
    "    print('Number of points searched:', c)\n",
    "    print('')\n",
    "    count += 1"
   ]
  },
  {
   "cell_type": "code",
   "execution_count": 19,
   "id": "2547c428",
   "metadata": {},
   "outputs": [
    {
     "name": "stdout",
     "output_type": "stream",
     "text": [
      "10.462963581085205\n"
     ]
    }
   ],
   "source": [
    "# Generate 100 random points and add into EXCELL\n",
    "pt_lst = []\n",
    "while len(pt_lst) < 100:\n",
    "    x = random.uniform(mbr.west, mbr.east)\n",
    "    y = random.uniform(mbr.south, mbr.north)\n",
    "    pt_lst.append([x, y])\n",
    "    \n",
    "start_time = time.time()\n",
    "for pt in pt_lst:\n",
    "    excell.add_point(pt)\n",
    "excell_add_time = time.time() - start_time\n",
    "print(excell_add_time)"
   ]
  },
  {
   "cell_type": "code",
   "execution_count": 20,
   "id": "426323af",
   "metadata": {},
   "outputs": [
    {
     "name": "stdout",
     "output_type": "stream",
     "text": [
      "0.016010761260986328\n"
     ]
    }
   ],
   "source": [
    "# Use the same 100 random points and add into quad tree\n",
    "start_time = time.time()\n",
    "quadtree.add_points(pt_lst)\n",
    "quadtree_add_time = time.time() - start_time\n",
    "print(add_time)"
   ]
  }
 ],
 "metadata": {
  "kernelspec": {
   "display_name": "Python 3 (ipykernel)",
   "language": "python",
   "name": "python3"
  },
  "language_info": {
   "codemirror_mode": {
    "name": "ipython",
    "version": 3
   },
   "file_extension": ".py",
   "mimetype": "text/x-python",
   "name": "python",
   "nbconvert_exporter": "python",
   "pygments_lexer": "ipython3",
   "version": "3.8.11"
  }
 },
 "nbformat": 4,
 "nbformat_minor": 5
}
