{
 "cells": [
  {
   "cell_type": "markdown",
   "id": "6f56cc35",
   "metadata": {},
   "source": [
    "### Question 1"
   ]
  },
  {
   "cell_type": "markdown",
   "id": "7998b6da",
   "metadata": {},
   "source": [
    "Using the example graph from\n",
    "\n",
    "https://www.cse.ust.hk/msbd5003/nb/graph.ipynb\n",
    "\n",
    "Write code to perform the following tasks using GraphFrames:\n",
    "\n",
    "Find Alice's two-hop neighbors' names, regardless of the edge type."
   ]
  },
  {
   "cell_type": "markdown",
   "id": "8cf33a28",
   "metadata": {},
   "source": [
    "### Question 2"
   ]
  },
  {
   "cell_type": "markdown",
   "id": "d1d4fac5",
   "metadata": {},
   "source": [
    "Redo the previous question, but exclude Alice's two-hop neighbors who have an edge back to Alice."
   ]
  },
  {
   "cell_type": "markdown",
   "id": "7c7af022",
   "metadata": {},
   "source": [
    "### Question 3"
   ]
  },
  {
   "cell_type": "markdown",
   "id": "bd5bb5ad",
   "metadata": {},
   "source": [
    "Find all people who follow Charlie.\n",
    "\n",
    "Hint: Use AND in SQL, or (..) & (..) in DataFrame boolean expressions."
   ]
  },
  {
   "cell_type": "markdown",
   "id": "458a7011",
   "metadata": {},
   "source": [
    "### Question 4"
   ]
  },
  {
   "cell_type": "markdown",
   "id": "3ed9300f",
   "metadata": {},
   "source": [
    "Find all people who are being followed by at least 2 people."
   ]
  },
  {
   "cell_type": "markdown",
   "id": "d47017a3",
   "metadata": {},
   "source": [
    "### Question 5"
   ]
  },
  {
   "cell_type": "markdown",
   "id": "bf96ee5b",
   "metadata": {},
   "source": [
    "Download the adjective-noun data here https://www.cse.ust.hk/msbd5003/data/adj_noun_pairs.txt.\n",
    "\n",
    "Create a queue of 10 RDDs using this data set and feed it into a Spark Streaming program.  Your Spark Streaming algorithm should maintain a state that keeps track of the longest noun seen so far associated with each distinct adjective. After each RDD, print any 5 adjectives and their associated longest nouns, as well as the longest noun associated with the adjective 'good'. Note that not every line in the data set contains exactly two words, so make sure to clean the data as they are fed into the streaming program.  The skeleton code is provided below:"
   ]
  },
  {
   "cell_type": "markdown",
   "id": "76694c4f",
   "metadata": {},
   "source": [
    "```\n",
    "from pyspark.streaming import StreamingContext\n",
    "\n",
    "ssc = StreamingContext(sc, 5)\n",
    "# Provide a checkpointing directory. Required for stateful transformations\n",
    "ssc.checkpoint(\"checkpoint\")\n",
    "\n",
    "numPartitions = 8\n",
    "rdd = sc.textFile('../data/adj_noun_pairs.txt', numPartitions)\n",
    "rddQueue = rdd.randomSplit([1]*10, 123)\n",
    "lines = ssc.queueStream(rddQueue)\n",
    "\n",
    "# FILL IN YOUR CODE\n",
    "\n",
    "ssc.start()\n",
    "ssc.awaitTermination(50)\n",
    "ssc.stop(False)\n",
    "print(\"Finished\")\n",
    "```"
   ]
  }
 ],
 "metadata": {
  "kernelspec": {
   "display_name": "Python 3",
   "language": "python",
   "name": "python3"
  },
  "language_info": {
   "codemirror_mode": {
    "name": "ipython",
    "version": 3
   },
   "file_extension": ".py",
   "mimetype": "text/x-python",
   "name": "python",
   "nbconvert_exporter": "python",
   "pygments_lexer": "ipython3",
   "version": "3.8.8"
  }
 },
 "nbformat": 4,
 "nbformat_minor": 5
}
