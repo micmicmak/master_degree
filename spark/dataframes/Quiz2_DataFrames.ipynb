{
 "cells": [
  {
   "cell_type": "markdown",
   "id": "171c3b90",
   "metadata": {},
   "source": [
    "### Instruction"
   ]
  },
  {
   "cell_type": "markdown",
   "id": "c4cb8d45",
   "metadata": {},
   "source": [
    "Download the following csv file: http://www.cse.ust.hk/msbd5003/data/sales.csv\n",
    "\n",
    "Load it into Spark by"
   ]
  },
  {
   "cell_type": "markdown",
   "id": "3de04769",
   "metadata": {},
   "source": [
    "```\n",
    "df = spark.read.csv('sales.csv', header=True, inferSchema=True)\n",
    "```"
   ]
  },
  {
   "cell_type": "markdown",
   "id": "59552663",
   "metadata": {},
   "source": [
    "Then perform the following operations using the DataFrame API."
   ]
  },
  {
   "cell_type": "markdown",
   "id": "b42aa50e",
   "metadata": {},
   "source": [
    "### Question 1"
   ]
  },
  {
   "cell_type": "markdown",
   "id": "2bfdb7d5",
   "metadata": {},
   "source": [
    "Find all distinct countries.\n",
    "\n",
    "Hint: use select(), distinct()"
   ]
  },
  {
   "cell_type": "markdown",
   "id": "02f2757f",
   "metadata": {},
   "source": [
    "### Question 2"
   ]
  },
  {
   "cell_type": "markdown",
   "id": "3c965152",
   "metadata": {},
   "source": [
    "Find the Name and Price of sales records in Brazil.\n",
    "\n",
    "Hint: use filter()."
   ]
  },
  {
   "cell_type": "markdown",
   "id": "5af5dc43",
   "metadata": {},
   "source": [
    "### Question 3"
   ]
  },
  {
   "cell_type": "markdown",
   "id": "1d41b8d9",
   "metadata": {},
   "source": [
    "For each country, find the total Price.\n",
    "\n",
    "Hint: Use groupBy()"
   ]
  },
  {
   "cell_type": "markdown",
   "id": "7b36a8c9",
   "metadata": {},
   "source": [
    "### Question 4"
   ]
  },
  {
   "cell_type": "markdown",
   "id": "57b6607e",
   "metadata": {},
   "source": [
    "List countries by their total Price in descending order.\n",
    "\n",
    "Hint: Use orderBy()"
   ]
  },
  {
   "cell_type": "markdown",
   "id": "2e44861e",
   "metadata": {},
   "source": [
    "### Question 5"
   ]
  },
  {
   "cell_type": "markdown",
   "id": "752bf4f7",
   "metadata": {},
   "source": [
    "Now load a second table 'countries':\n",
    "\n",
    "http://www.cse.ust.hk/msbd5003/data/countries.csv"
   ]
  },
  {
   "cell_type": "markdown",
   "id": "364090af",
   "metadata": {},
   "source": [
    "```\n",
    "df2 = spark.read.csv('countries.csv', header=True, inferSchema=True)\n",
    "```"
   ]
  },
  {
   "cell_type": "markdown",
   "id": "3f55e2ec",
   "metadata": {},
   "source": [
    "Redo Question 3, but replace the country names by their IDs.\n",
    "\n",
    "Hint: Use join()"
   ]
  },
  {
   "cell_type": "markdown",
   "id": "c4ef47bb",
   "metadata": {},
   "source": [
    "### Question 6"
   ]
  },
  {
   "cell_type": "markdown",
   "id": "f69c3890",
   "metadata": {},
   "source": [
    "Rewrite the PageRank example using DataFrame API.  Here is a skeleton of the code.  Your job is to fill in the missing part.  The data files can be downloaded at:\n",
    "\n",
    "https://www.cse.ust.hk/msbd5003/data/pagerank_data.txt\n",
    "\n",
    "https://www.cse.ust.hk/msbd5003/data/dblp.in"
   ]
  },
  {
   "cell_type": "markdown",
   "id": "f5380590",
   "metadata": {},
   "source": [
    "```\n",
    "from pyspark.sql.functions import *\n",
    "\n",
    "numOfIterations = 10\n",
    "\n",
    "lines = spark.read.text(\"pagerank_data.txt\")\n",
    "# You can also test your program on the follow larger data set:\n",
    "# lines = spark.read.text(\"dblp.in\")\n",
    "\n",
    "a = lines.select(split(lines[0],' '))\n",
    "links = a.select(a[0][0].alias('src'), a[0][1].alias('dst'))\n",
    "outdegrees = links.groupBy('src').count()\n",
    "ranks = outdegrees.select('src', lit(1).alias('rank'))\n",
    "\n",
    "for iteration in range(numOfIterations):\n",
    "# FILL IN THIS PART\n",
    "\n",
    "ranks.orderBy(desc('rank')).show()\n",
    "```"
   ]
  }
 ],
 "metadata": {
  "kernelspec": {
   "display_name": "Python 3",
   "language": "python",
   "name": "python3"
  },
  "language_info": {
   "codemirror_mode": {
    "name": "ipython",
    "version": 3
   },
   "file_extension": ".py",
   "mimetype": "text/x-python",
   "name": "python",
   "nbconvert_exporter": "python",
   "pygments_lexer": "ipython3",
   "version": "3.8.8"
  }
 },
 "nbformat": 4,
 "nbformat_minor": 5
}
