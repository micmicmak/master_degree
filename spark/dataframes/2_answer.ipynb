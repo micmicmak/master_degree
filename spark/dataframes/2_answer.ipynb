{
 "cells": [
  {
   "cell_type": "code",
   "execution_count": null,
   "id": "a753c76b",
   "metadata": {},
   "outputs": [],
   "source": [
    "from operator import add\n",
    "lines = sc.textFile('README.md')\n",
    "counts = lines.flatMap(lambda x: x.split()) \\\n",
    "              .map(lambda x: (x, 1)) \\\n",
    "              .reduceByKey(add)\n",
    "print(counts.sortBy(lambda x: x[1], ascending = False).take(1))"
   ]
  },
  {
   "cell_type": "code",
   "execution_count": null,
   "id": "ce35119b",
   "metadata": {},
   "outputs": [],
   "source": [
    "from operator import add\n",
    "lines = sc.textFile('README.md')\n",
    "counts = lines.flatMap(lambda x: x.split()) \\\n",
    "              .filter(lamda x: len(x) >= 5) \\\n",
    "              .map(lambda x: (x, 1)) \\\n",
    "              .reduceByKey(add)"
   ]
  },
  {
   "cell_type": "code",
   "execution_count": null,
   "id": "e4efb3c2",
   "metadata": {},
   "outputs": [],
   "source": [
    "A = sc.parallelize(range(1, 100))\n",
    "t = 50\n",
    "B = A.filter(lambda x: x < t)\n",
    "print(B.count())\n",
    "t = 10\n",
    "C = B.filter(lambda x: x > t)\n",
    "print(C.count())"
   ]
  },
  {
   "cell_type": "code",
   "execution_count": null,
   "id": "db9b0a47",
   "metadata": {},
   "outputs": [],
   "source": [
    "A = sc.parallelize(range(1, 100))\n",
    "t = 50\n",
    "B = A.filter(lambda x: x < t)\n",
    "B.persist()\n",
    "print(B.count())\n",
    "t = 10\n",
    "C = B.filter(lambda x: x > t)\n",
    "print(C.count())"
   ]
  },
  {
   "cell_type": "code",
   "execution_count": null,
   "id": "46263d0e",
   "metadata": {},
   "outputs": [],
   "source": [
    "a_dict = a_freqs.collectAsMap()\n",
    "n_dict = n_freqs.collectAsMap()\n",
    "\n",
    "from math import *\n",
    "\n",
    "def pmi_score(pair_freq):\n",
    "    w1, w2 = pair_freq[0]\n",
    "    f = pair_freq[1]\n",
    "    pmi = log(float(f)*N/(a_dict[w1]*n_dict[w2]), 2)\n",
    "    return pmi, (w1, w2)"
   ]
  },
  {
   "cell_type": "code",
   "execution_count": null,
   "id": "e78af9b6",
   "metadata": {},
   "outputs": [],
   "source": [
    "a = sc.parallelize(range(100), 4)\n",
    "def f(index, it):\n",
    "    s = 0\n",
    "    for i in it:\n",
    "        s = i + index\n",
    "        yield s\n",
    "print(a.mapPartitionsWithIndex(f).collect())"
   ]
  }
 ],
 "metadata": {
  "kernelspec": {
   "display_name": "Python 3",
   "language": "python",
   "name": "python3"
  },
  "language_info": {
   "codemirror_mode": {
    "name": "ipython",
    "version": 3
   },
   "file_extension": ".py",
   "mimetype": "text/x-python",
   "name": "python",
   "nbconvert_exporter": "python",
   "pygments_lexer": "ipython3",
   "version": "3.8.8"
  }
 },
 "nbformat": 4,
 "nbformat_minor": 5
}
