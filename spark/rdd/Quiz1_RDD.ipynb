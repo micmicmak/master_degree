{
 "cells": [
  {
   "cell_type": "markdown",
   "id": "385a1bf1",
   "metadata": {},
   "source": [
    "### Question 1"
   ]
  },
  {
   "cell_type": "markdown",
   "id": "65bfcee9",
   "metadata": {},
   "source": [
    "The following piece of code computes the frequencies of the words in a text file:"
   ]
  },
  {
   "cell_type": "markdown",
   "id": "ab05f2b3",
   "metadata": {},
   "source": [
    "```\n",
    "from operator import add\n",
    "lines = sc.textFile('README.md')\n",
    "counts = lines.flatMap(lambda x: x.split()) \\\n",
    "              .map(lambda x: (x, 1)) \\\n",
    "              .reduceByKey(add)\n",
    "```"
   ]
  },
  {
   "cell_type": "markdown",
   "id": "53cf7948",
   "metadata": {},
   "source": [
    "Add one line to find the most frequent word. Output this word and its frequency.\n",
    "\n",
    "Hint: Use sortBy(), reduce(), or max()"
   ]
  },
  {
   "cell_type": "markdown",
   "id": "98527f58",
   "metadata": {},
   "source": [
    "### Question 2"
   ]
  },
  {
   "cell_type": "markdown",
   "id": "c77f72ab",
   "metadata": {},
   "source": [
    "Modify the word count example above, so that we only count the frequencies of those words consisting of 5 or more characters."
   ]
  },
  {
   "cell_type": "markdown",
   "id": "3ae26baa",
   "metadata": {},
   "source": [
    "### Question 3"
   ]
  },
  {
   "cell_type": "markdown",
   "id": "de03a9c4",
   "metadata": {},
   "source": [
    "Consider the following piece of code:"
   ]
  },
  {
   "cell_type": "markdown",
   "id": "fd8d9f81",
   "metadata": {},
   "source": [
    "```\n",
    "A = sc.parallelize(range(1, 100))\n",
    "t = 50\n",
    "B = A.filter(lambda x: x < t)\n",
    "print(B.count())\n",
    "t = 10\n",
    "C = B.filter(lambda x: x > t)\n",
    "print(C.count())\n",
    "```"
   ]
  },
  {
   "cell_type": "markdown",
   "id": "cdeffb89",
   "metadata": {},
   "source": [
    "What's its output? (Yes, you can just run it.)"
   ]
  },
  {
   "cell_type": "markdown",
   "id": "2134aef2",
   "metadata": {},
   "source": [
    "### Question 4"
   ]
  },
  {
   "cell_type": "markdown",
   "id": "3dcc1243",
   "metadata": {},
   "source": [
    "The intent of the code above is to get all numbers below 50 from A and put them into B, and then get all numbers above 10 from B and put them into C.  Fix the code so that it produces the desired behavior, by adding one line of code.  You are not allowed to change the existing code."
   ]
  },
  {
   "cell_type": "markdown",
   "id": "7202fece",
   "metadata": {},
   "source": [
    "### Question 5"
   ]
  },
  {
   "cell_type": "markdown",
   "id": "c2db9b8f",
   "metadata": {},
   "source": [
    "Modify the PMI example by sending a_dict and n_dict inside the closure. Do not use broadcast variables."
   ]
  },
  {
   "cell_type": "markdown",
   "id": "2fb6ba54",
   "metadata": {},
   "source": [
    "### Question 6"
   ]
  },
  {
   "cell_type": "markdown",
   "id": "2f6389ba",
   "metadata": {},
   "source": [
    "The following code creates an RDD with 4 partitions: partition 0, 1, 2, and 3."
   ]
  },
  {
   "cell_type": "markdown",
   "id": "a99c660c",
   "metadata": {},
   "source": [
    "```\n",
    "A = sc.parallelize(range(100), 4)\n",
    "```"
   ]
  },
  {
   "cell_type": "markdown",
   "id": "4231136f",
   "metadata": {},
   "source": [
    "For each item in the RDD, add its partition number to it, and write the results to another RDD, i.e., the resulting RDD should contain:"
   ]
  },
  {
   "cell_type": "markdown",
   "id": "3c594383",
   "metadata": {},
   "source": [
    "```\n",
    "[0, 1, 2, 3, 4, 5, 6, 7, 8, 9, 10, 11, 12, 13, 14, 15, 16, 17, 18, 19, 20, 21, 22, 23, 24, 26, 27, 28, 29, 30, 31, 32, 33, 34, 35, 36, 37, 38, 39, 40, 41, 42, 43, 44, 45, 46, 47, 48, 49, 50, 52, 53, 54, 55, 56, 57, 58, 59, 60, 61, 62, 63, 64, 65, 66, 67, 68, 69, 70, 71, 72, 73, 74, 75, 76, 78, 79, 80, 81, 82, 83, 84, 85, 86, 87, 88, 89, 90, 91, 92, 93, 94, 95, 96, 97, 98, 99, 100, 101, 102]\n",
    "```"
   ]
  }
 ],
 "metadata": {
  "kernelspec": {
   "display_name": "Python 3",
   "language": "python",
   "name": "python3"
  },
  "language_info": {
   "codemirror_mode": {
    "name": "ipython",
    "version": 3
   },
   "file_extension": ".py",
   "mimetype": "text/x-python",
   "name": "python",
   "nbconvert_exporter": "python",
   "pygments_lexer": "ipython3",
   "version": "3.8.8"
  }
 },
 "nbformat": 4,
 "nbformat_minor": 5
}
